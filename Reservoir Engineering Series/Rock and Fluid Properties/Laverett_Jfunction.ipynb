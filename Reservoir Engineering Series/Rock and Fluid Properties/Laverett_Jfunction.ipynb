{
 "cells": [
  {
   "cell_type": "code",
   "execution_count": 1,
   "metadata": {},
   "outputs": [],
   "source": [
    "import pandas as pd\n",
    "import numpy as np\n",
    "import sys\n",
    "sys.path.append(\"D:\\GitHub\\Geology-Data-Analyst\\Reservoir Engineering Series\")\n",
    "import utilities"
   ]
  },
  {
   "cell_type": "code",
   "execution_count": 2,
   "metadata": {},
   "outputs": [
    {
     "data": {
      "text/html": [
       "<div>\n",
       "<style scoped>\n",
       "    .dataframe tbody tr th:only-of-type {\n",
       "        vertical-align: middle;\n",
       "    }\n",
       "\n",
       "    .dataframe tbody tr th {\n",
       "        vertical-align: top;\n",
       "    }\n",
       "\n",
       "    .dataframe thead th {\n",
       "        text-align: right;\n",
       "    }\n",
       "</style>\n",
       "<table border=\"1\" class=\"dataframe\">\n",
       "  <thead>\n",
       "    <tr style=\"text-align: right;\">\n",
       "      <th></th>\n",
       "      <th>sw</th>\n",
       "      <th>pc_1</th>\n",
       "      <th>pc_2</th>\n",
       "      <th>pc_3</th>\n",
       "      <th>pc_4</th>\n",
       "    </tr>\n",
       "  </thead>\n",
       "  <tbody>\n",
       "    <tr>\n",
       "      <th>0</th>\n",
       "      <td>15</td>\n",
       "      <td>93.59</td>\n",
       "      <td>28.34</td>\n",
       "      <td>12.82</td>\n",
       "      <td>6.94</td>\n",
       "    </tr>\n",
       "    <tr>\n",
       "      <th>1</th>\n",
       "      <td>16</td>\n",
       "      <td>66.48</td>\n",
       "      <td>20.13</td>\n",
       "      <td>9.10</td>\n",
       "      <td>4.93</td>\n",
       "    </tr>\n",
       "    <tr>\n",
       "      <th>2</th>\n",
       "      <td>17</td>\n",
       "      <td>46.54</td>\n",
       "      <td>14.09</td>\n",
       "      <td>6.37</td>\n",
       "      <td>3.45</td>\n",
       "    </tr>\n",
       "    <tr>\n",
       "      <th>3</th>\n",
       "      <td>18</td>\n",
       "      <td>39.89</td>\n",
       "      <td>12.08</td>\n",
       "      <td>5.46</td>\n",
       "      <td>2.96</td>\n",
       "    </tr>\n",
       "    <tr>\n",
       "      <th>4</th>\n",
       "      <td>19</td>\n",
       "      <td>33.24</td>\n",
       "      <td>10.06</td>\n",
       "      <td>4.55</td>\n",
       "      <td>2.47</td>\n",
       "    </tr>\n",
       "    <tr>\n",
       "      <th>5</th>\n",
       "      <td>20</td>\n",
       "      <td>31.82</td>\n",
       "      <td>9.63</td>\n",
       "      <td>4.36</td>\n",
       "      <td>2.36</td>\n",
       "    </tr>\n",
       "    <tr>\n",
       "      <th>6</th>\n",
       "      <td>25</td>\n",
       "      <td>22.46</td>\n",
       "      <td>6.80</td>\n",
       "      <td>3.08</td>\n",
       "      <td>1.67</td>\n",
       "    </tr>\n",
       "    <tr>\n",
       "      <th>7</th>\n",
       "      <td>30</td>\n",
       "      <td>16.85</td>\n",
       "      <td>5.10</td>\n",
       "      <td>2.31</td>\n",
       "      <td>1.25</td>\n",
       "    </tr>\n",
       "    <tr>\n",
       "      <th>8</th>\n",
       "      <td>35</td>\n",
       "      <td>13.10</td>\n",
       "      <td>3.97</td>\n",
       "      <td>1.79</td>\n",
       "      <td>0.97</td>\n",
       "    </tr>\n",
       "    <tr>\n",
       "      <th>9</th>\n",
       "      <td>40</td>\n",
       "      <td>11.23</td>\n",
       "      <td>3.40</td>\n",
       "      <td>1.54</td>\n",
       "      <td>0.83</td>\n",
       "    </tr>\n",
       "    <tr>\n",
       "      <th>10</th>\n",
       "      <td>50</td>\n",
       "      <td>7.49</td>\n",
       "      <td>2.27</td>\n",
       "      <td>1.03</td>\n",
       "      <td>0.56</td>\n",
       "    </tr>\n",
       "    <tr>\n",
       "      <th>11</th>\n",
       "      <td>60</td>\n",
       "      <td>6.55</td>\n",
       "      <td>1.98</td>\n",
       "      <td>0.90</td>\n",
       "      <td>0.49</td>\n",
       "    </tr>\n",
       "    <tr>\n",
       "      <th>12</th>\n",
       "      <td>70</td>\n",
       "      <td>6.08</td>\n",
       "      <td>1.84</td>\n",
       "      <td>0.83</td>\n",
       "      <td>0.45</td>\n",
       "    </tr>\n",
       "    <tr>\n",
       "      <th>13</th>\n",
       "      <td>80</td>\n",
       "      <td>5.62</td>\n",
       "      <td>1.70</td>\n",
       "      <td>0.77</td>\n",
       "      <td>0.42</td>\n",
       "    </tr>\n",
       "    <tr>\n",
       "      <th>14</th>\n",
       "      <td>90</td>\n",
       "      <td>5.62</td>\n",
       "      <td>1.70</td>\n",
       "      <td>0.77</td>\n",
       "      <td>0.42</td>\n",
       "    </tr>\n",
       "    <tr>\n",
       "      <th>15</th>\n",
       "      <td>100</td>\n",
       "      <td>5.62</td>\n",
       "      <td>1.70</td>\n",
       "      <td>0.77</td>\n",
       "      <td>0.42</td>\n",
       "    </tr>\n",
       "  </tbody>\n",
       "</table>\n",
       "</div>"
      ],
      "text/plain": [
       "     sw   pc_1   pc_2   pc_3  pc_4\n",
       "0    15  93.59  28.34  12.82  6.94\n",
       "1    16  66.48  20.13   9.10  4.93\n",
       "2    17  46.54  14.09   6.37  3.45\n",
       "3    18  39.89  12.08   5.46  2.96\n",
       "4    19  33.24  10.06   4.55  2.47\n",
       "5    20  31.82   9.63   4.36  2.36\n",
       "6    25  22.46   6.80   3.08  1.67\n",
       "7    30  16.85   5.10   2.31  1.25\n",
       "8    35  13.10   3.97   1.79  0.97\n",
       "9    40  11.23   3.40   1.54  0.83\n",
       "10   50   7.49   2.27   1.03  0.56\n",
       "11   60   6.55   1.98   0.90  0.49\n",
       "12   70   6.08   1.84   0.83  0.45\n",
       "13   80   5.62   1.70   0.77  0.42\n",
       "14   90   5.62   1.70   0.77  0.42\n",
       "15  100   5.62   1.70   0.77  0.42"
      ]
     },
     "execution_count": 2,
     "metadata": {},
     "output_type": "execute_result"
    }
   ],
   "source": [
    "df = pd.read_csv(\"data\\Table 1.1 Capillary Pressure Sets Example.csv\")\n",
    "df"
   ]
  },
  {
   "cell_type": "code",
   "execution_count": 3,
   "metadata": {},
   "outputs": [
    {
     "data": {
      "text/plain": [
       "0.0010442717560604383"
      ]
     },
     "execution_count": 3,
     "metadata": {},
     "output_type": "execute_result"
    }
   ],
   "source": [
    "sigma = 72 \n",
    "sigma_convert = sigma * (1/68947.57)\n",
    "sigma_convert\n",
    "#theta = 42"
   ]
  },
  {
   "cell_type": "code",
   "execution_count": 4,
   "metadata": {},
   "outputs": [
    {
     "data": {
      "text/plain": [
       "0.0010442717560604383"
      ]
     },
     "execution_count": 4,
     "metadata": {},
     "output_type": "execute_result"
    }
   ],
   "source": [
    "sigma_utils = utilities.dyne_cm_to_psi_cm(sigma)\n",
    "sigma_utils"
   ]
  },
  {
   "cell_type": "code",
   "execution_count": 5,
   "metadata": {},
   "outputs": [
    {
     "data": {
      "text/plain": [
       "1.480338495e-10"
      ]
     },
     "execution_count": 5,
     "metadata": {},
     "output_type": "execute_result"
    }
   ],
   "source": [
    "k_1 = (15/1000)*(0.98689233 * 1E-08)\n",
    "k_1"
   ]
  },
  {
   "cell_type": "code",
   "execution_count": 7,
   "metadata": {},
   "outputs": [
    {
     "data": {
      "text/plain": [
       "1.48038495e-10"
      ]
     },
     "execution_count": 7,
     "metadata": {},
     "output_type": "execute_result"
    }
   ],
   "source": [
    "k_1 = utilities.milidarcy_to_micro_m2(15) * 1E-08\n",
    "k_1"
   ]
  },
  {
   "cell_type": "code",
   "execution_count": null,
   "metadata": {},
   "outputs": [],
   "source": []
  }
 ],
 "metadata": {
  "kernelspec": {
   "display_name": "Python 3",
   "language": "python",
   "name": "python3"
  },
  "language_info": {
   "codemirror_mode": {
    "name": "ipython",
    "version": 3
   },
   "file_extension": ".py",
   "mimetype": "text/x-python",
   "name": "python",
   "nbconvert_exporter": "python",
   "pygments_lexer": "ipython3",
   "version": "3.11.1"
  }
 },
 "nbformat": 4,
 "nbformat_minor": 2
}
